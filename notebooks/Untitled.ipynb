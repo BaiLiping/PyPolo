{
 "cells": [
  {
   "cell_type": "code",
   "execution_count": 1,
   "id": "dcc7d73a",
   "metadata": {},
   "outputs": [],
   "source": [
    "from pathlib import Path\n",
    "import numpy as np\n",
    "import pypolo"
   ]
  },
  {
   "cell_type": "markdown",
   "id": "af6241a0",
   "metadata": {},
   "source": [
    "# Environment"
   ]
  },
  {
   "cell_type": "markdown",
   "id": "62d0f69a",
   "metadata": {},
   "source": [
    "We will download the image of 30-meter resolution elevation data from the [Shuttle Radar Topography Mission](https://www2.jpl.nasa.gov/srtm/) and use the elevation map as the ground-truth environment.\n",
    "You can preview the image and choose your favorate tile from the link below.\n",
    "Note down the tile ID, e.g., N17E073.\n",
    "PyPolo provides utility function to download and preprocess the data.\n",
    "\n",
    "https://dwtkns.com/srtm30m/"
   ]
  },
  {
   "cell_type": "code",
   "execution_count": 2,
   "id": "e2000d60",
   "metadata": {},
   "outputs": [
    {
     "name": "stdout",
     "output_type": "stream",
     "text": [
      "Successfully read data from data/srtm/preprocessed/N17E073.npy\n",
      "Array \tshape:\t(360, 360)\n",
      "\tmin:\t 1.89\n",
      "\tmax:\t 254.93\n",
      "\tdtype:\tfloat64\n",
      "\n"
     ]
    }
   ],
   "source": [
    "# Create a data folder\n",
    "data_path = \"./data/srtm\"\n",
    "Path(data_path).mkdir(exist_ok=True, parents=True)\n",
    "# Download, preprocess, read the environment and print some statistics\n",
    "env = pypolo.experiments.environments.get_environment(\"N17E073\", data_path)"
   ]
  },
  {
   "cell_type": "markdown",
   "id": "25c9ca0c",
   "metadata": {},
   "source": [
    "We specify the environment extent and task extent. The robot can move within the environment extent but we only conduct the Robotic Information Gathering task in the task extent. We need to leave some buffer space because the robot is not guaranteed to always stay in the workspace due to [underactuation](https://en.wikipedia.org/wiki/Underactuation) or external disturbances. For example, an Autonomous Surface Vehicle (ASV) cannot turn in-place while moving at a high speed due to inertia and its motion can be disturbed by waves or strong wind."
   ]
  },
  {
   "cell_type": "code",
   "execution_count": null,
   "id": "92835b44",
   "metadata": {},
   "outputs": [],
   "source": [
    "# [xmin, xmax, ymin, ymax]\n",
    "env_extent = [-11.0, 11.0, -11.0, 11.0]\n",
    "task_extent = [-10.0, 10.0, -10.0, 10.0]"
   ]
  },
  {
   "cell_type": "markdown",
   "id": "1bc18829",
   "metadata": {},
   "source": [
    "# Sensor"
   ]
  },
  {
   "cell_type": "code",
   "execution_count": 3,
   "id": "fdefadbb",
   "metadata": {},
   "outputs": [
    {
     "ename": "NameError",
     "evalue": "name 'args' is not defined",
     "output_type": "error",
     "traceback": [
      "\u001b[0;31m---------------------------------------------------------------------------\u001b[0m",
      "\u001b[0;31mNameError\u001b[0m                                 Traceback (most recent call last)",
      "Cell \u001b[0;32mIn [3], line 4\u001b[0m\n\u001b[1;32m      1\u001b[0m sensor \u001b[38;5;241m=\u001b[39m pypolo\u001b[38;5;241m.\u001b[39msensors\u001b[38;5;241m.\u001b[39mRanger(\n\u001b[1;32m      2\u001b[0m     rate\u001b[38;5;241m=\u001b[39m\u001b[38;5;241m1.0\u001b[39m,  \u001b[38;5;66;03m# collects 1 sonar measurement per sec\u001b[39;00m\n\u001b[1;32m      3\u001b[0m     env\u001b[38;5;241m=\u001b[39menv,  \u001b[38;5;66;03m# the sensor samples from this environment\u001b[39;00m\n\u001b[0;32m----> 4\u001b[0m     env_extent\u001b[38;5;241m=\u001b[39m\u001b[43margs\u001b[49m\u001b[38;5;241m.\u001b[39menv_extent,  \u001b[38;5;66;03m# workspace extent\u001b[39;00m\n\u001b[1;32m      5\u001b[0m     noise_scale\u001b[38;5;241m=\u001b[39margs\u001b[38;5;241m.\u001b[39mnoise_scale,  \u001b[38;5;66;03m# observational Gaussian noise scale (i.e., standard deviation)\u001b[39;00m\n\u001b[1;32m      6\u001b[0m )\n",
      "\u001b[0;31mNameError\u001b[0m: name 'args' is not defined"
     ]
    }
   ],
   "source": [
    "sensor = pypolo.sensors.Ranger(\n",
    "    rate=1.0,  # collects 1 sonar measurement per sec\n",
    "    env=env,  # the sensor samples from this environment\n",
    "    env_extent=env_extent,  # workspace extent\n",
    "    noise_scale=noise_scale,  # observational Gaussian noise scale (i.e., standard deviation)\n",
    ")"
   ]
  }
 ],
 "metadata": {
  "kernelspec": {
   "display_name": "Python 3 (ipykernel)",
   "language": "python",
   "name": "python3"
  },
  "language_info": {
   "codemirror_mode": {
    "name": "ipython",
    "version": 3
   },
   "file_extension": ".py",
   "mimetype": "text/x-python",
   "name": "python",
   "nbconvert_exporter": "python",
   "pygments_lexer": "ipython3",
   "version": "3.9.14"
  }
 },
 "nbformat": 4,
 "nbformat_minor": 5
}
